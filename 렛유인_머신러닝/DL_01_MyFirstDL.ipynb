{
  "nbformat": 4,
  "nbformat_minor": 0,
  "metadata": {
    "colab": {
      "provenance": [],
      "gpuType": "T4",
      "include_colab_link": true
    },
    "kernelspec": {
      "name": "python3",
      "display_name": "Python 3"
    },
    "language_info": {
      "name": "python"
    },
    "accelerator": "GPU"
  },
  "cells": [
    {
      "cell_type": "markdown",
      "metadata": {
        "id": "view-in-github",
        "colab_type": "text"
      },
      "source": [
        "<a href=\"https://colab.research.google.com/github/sungrae98/Machine-Learning/blob/main/DL_01_MyFirstDL.ipynb\" target=\"_parent\"><img src=\"https://colab.research.google.com/assets/colab-badge.svg\" alt=\"Open In Colab\"/></a>"
      ]
    },
    {
      "cell_type": "code",
      "execution_count": null,
      "metadata": {
        "colab": {
          "base_uri": "https://localhost:8080/",
          "height": 35
        },
        "id": "STGJWptyI4ov",
        "outputId": "ca1218fb-ba63-48b1-b17d-99a15b3bb671"
      },
      "outputs": [
        {
          "output_type": "execute_result",
          "data": {
            "text/plain": [
              "'2.13.0'"
            ],
            "application/vnd.google.colaboratory.intrinsic+json": {
              "type": "string"
            }
          },
          "metadata": {},
          "execution_count": 1
        }
      ],
      "source": [
        "# !pip install tensorflow\n",
        "\n",
        "# 버전 확인\n",
        "import tensorflow as tf\n",
        "\n",
        "tf.__version__"
      ]
    },
    {
      "cell_type": "code",
      "source": [
        "# 회귀분석 기초_가장 훌륭한 예측선 그리기\n",
        "\n",
        "# 최소제곱법\n",
        "\n",
        "import numpy as np\n",
        "import pandas as pd\n",
        "\n",
        "# 공부한 시간, 성적 >> 각각 x, y 변수에 넣기\n",
        "\n",
        "x = np.array([2,4,6,8])\n",
        "y = np.array([81,93,91,97])"
      ],
      "metadata": {
        "id": "JiYCV_iUI_p3"
      },
      "execution_count": null,
      "outputs": []
    },
    {
      "cell_type": "code",
      "source": [
        "print(x)\n",
        "print()\n",
        "print(y)"
      ],
      "metadata": {
        "colab": {
          "base_uri": "https://localhost:8080/"
        },
        "id": "MhKAMw8SRd4o",
        "outputId": "d746f3f1-3cca-4bab-dd57-b1ade85ca503"
      },
      "execution_count": null,
      "outputs": [
        {
          "output_type": "stream",
          "name": "stdout",
          "text": [
            "[2 4 6 8]\n",
            "\n",
            "[81 93 91 97]\n"
          ]
        }
      ]
    },
    {
      "cell_type": "code",
      "source": [
        "# x. y의 평균값 구하기\n",
        "\n",
        "x.mean() # (2+4+6+8) / 4"
      ],
      "metadata": {
        "colab": {
          "base_uri": "https://localhost:8080/"
        },
        "id": "hvWcrZccJgQx",
        "outputId": "141c01c3-7fe0-4699-cb64-994083716536"
      },
      "execution_count": null,
      "outputs": [
        {
          "output_type": "execute_result",
          "data": {
            "text/plain": [
              "5.0"
            ]
          },
          "metadata": {},
          "execution_count": 4
        }
      ]
    },
    {
      "cell_type": "code",
      "source": [
        "np.mean(x)"
      ],
      "metadata": {
        "colab": {
          "base_uri": "https://localhost:8080/"
        },
        "id": "iWpUbvhvJlbR",
        "outputId": "fa6a6582-cf95-43d2-c3fa-290479968640"
      },
      "execution_count": null,
      "outputs": [
        {
          "output_type": "execute_result",
          "data": {
            "text/plain": [
              "5.0"
            ]
          },
          "metadata": {},
          "execution_count": 5
        }
      ]
    },
    {
      "cell_type": "code",
      "source": [
        "mx = np.mean(x)\n",
        "my = np.mean(y)"
      ],
      "metadata": {
        "id": "UY7mkbH9JsK3"
      },
      "execution_count": null,
      "outputs": []
    },
    {
      "cell_type": "code",
      "source": [
        "print('x의 평균값: ', mx)\n",
        "print('y의 평균값:', my)"
      ],
      "metadata": {
        "colab": {
          "base_uri": "https://localhost:8080/"
        },
        "id": "vX89jvgKJwhN",
        "outputId": "7318665f-54b7-43a7-feba-29cb22392c70"
      },
      "execution_count": null,
      "outputs": [
        {
          "output_type": "stream",
          "name": "stdout",
          "text": [
            "x의 평균값:  5.0\n",
            "y의 평균값: 90.5\n"
          ]
        }
      ]
    },
    {
      "cell_type": "code",
      "source": [
        "x"
      ],
      "metadata": {
        "colab": {
          "base_uri": "https://localhost:8080/"
        },
        "id": "WmOSdLgGKIKZ",
        "outputId": "12f8bda7-e820-462e-a25e-4ac1cc78f831"
      },
      "execution_count": null,
      "outputs": [
        {
          "output_type": "execute_result",
          "data": {
            "text/plain": [
              "array([2, 4, 6, 8])"
            ]
          },
          "metadata": {},
          "execution_count": 8
        }
      ]
    },
    {
      "cell_type": "code",
      "source": [
        "x[0]"
      ],
      "metadata": {
        "colab": {
          "base_uri": "https://localhost:8080/"
        },
        "id": "Vw1_2RTgKJdB",
        "outputId": "f4a12231-a6f3-4ec2-9094-4b5f8ae54632"
      },
      "execution_count": null,
      "outputs": [
        {
          "output_type": "execute_result",
          "data": {
            "text/plain": [
              "2"
            ]
          },
          "metadata": {},
          "execution_count": 9
        }
      ]
    },
    {
      "cell_type": "code",
      "source": [
        "# 기울기 공식 : y = wx + b 구하기\n",
        "\n",
        "# 기울기의 분모 구하기\n",
        "\n",
        "[(i - mx) ** 2  for i in x]"
      ],
      "metadata": {
        "colab": {
          "base_uri": "https://localhost:8080/"
        },
        "id": "Ca7FfOeLJ16E",
        "outputId": "a35c890d-0674-4386-c0b5-f6762997c58a"
      },
      "execution_count": null,
      "outputs": [
        {
          "output_type": "execute_result",
          "data": {
            "text/plain": [
              "[9.0, 1.0, 1.0, 9.0]"
            ]
          },
          "metadata": {},
          "execution_count": 10
        }
      ]
    },
    {
      "cell_type": "code",
      "source": [
        "sum([(i - mx) ** 2  for i in x])"
      ],
      "metadata": {
        "colab": {
          "base_uri": "https://localhost:8080/"
        },
        "id": "PQ3xTaL8KRjj",
        "outputId": "62d1c6d6-3954-4574-f1e3-10c3bb30273a"
      },
      "execution_count": null,
      "outputs": [
        {
          "output_type": "execute_result",
          "data": {
            "text/plain": [
              "20.0"
            ]
          },
          "metadata": {},
          "execution_count": 11
        }
      ]
    },
    {
      "cell_type": "code",
      "source": [
        "divisor = sum([(i - mx) ** 2  for i in x])"
      ],
      "metadata": {
        "id": "Smqd-Dt8KVpK"
      },
      "execution_count": null,
      "outputs": []
    },
    {
      "cell_type": "code",
      "source": [
        "len(x) # x의 크기"
      ],
      "metadata": {
        "colab": {
          "base_uri": "https://localhost:8080/"
        },
        "id": "LdbcAlwbKg8a",
        "outputId": "9fd8fd9e-d2f9-4805-e107-504cfd7547b4"
      },
      "execution_count": null,
      "outputs": [
        {
          "output_type": "execute_result",
          "data": {
            "text/plain": [
              "4"
            ]
          },
          "metadata": {},
          "execution_count": 13
        }
      ]
    },
    {
      "cell_type": "code",
      "source": [
        "# 기울기의 분자 구하기\n",
        "\n",
        "def top(x, mx, y, my):\n",
        "    d = 0\n",
        "    for i in range(len(x)):\n",
        "      d += (x[i]-mx)*(y[i]-my)\n",
        "    return d\n"
      ],
      "metadata": {
        "id": "YNayW-qqKY5a"
      },
      "execution_count": null,
      "outputs": []
    },
    {
      "cell_type": "code",
      "source": [
        "top(x, mx, y, my)"
      ],
      "metadata": {
        "colab": {
          "base_uri": "https://localhost:8080/"
        },
        "id": "VULyO-C0K1L8",
        "outputId": "828031fe-a693-481a-d747-f3159fb5c40d"
      },
      "execution_count": null,
      "outputs": [
        {
          "output_type": "execute_result",
          "data": {
            "text/plain": [
              "46.0"
            ]
          },
          "metadata": {},
          "execution_count": 15
        }
      ]
    },
    {
      "cell_type": "code",
      "source": [
        "dividend = top(x, mx, y, my)"
      ],
      "metadata": {
        "id": "G9l58-s9K4Kj"
      },
      "execution_count": null,
      "outputs": []
    },
    {
      "cell_type": "code",
      "source": [
        "print('분모: ', divisor)\n",
        "print('분자: ', dividend)"
      ],
      "metadata": {
        "colab": {
          "base_uri": "https://localhost:8080/"
        },
        "id": "vEeLd7G-K9GV",
        "outputId": "a3d0a90e-013f-49a4-f5fe-8f26058246b3"
      },
      "execution_count": null,
      "outputs": [
        {
          "output_type": "stream",
          "name": "stdout",
          "text": [
            "분모:  20.0\n",
            "분자:  46.0\n"
          ]
        }
      ]
    },
    {
      "cell_type": "code",
      "source": [
        "# 평균 제곱 오차 구하기\n",
        "\n",
        "w = dividend / divisor\n",
        "\n",
        "# 절편\n",
        "b = my - (mx*w)\n",
        "\n",
        "print(\"기울기 w: \", w)\n",
        "print('y 절편 b: ', b)\n",
        "print('가장 훌륭한 예측선: %.2f X + %d 이다'%(w,b))"
      ],
      "metadata": {
        "colab": {
          "base_uri": "https://localhost:8080/"
        },
        "id": "Ytohsf4yLEAa",
        "outputId": "43f73af3-3374-40ea-e03b-c6e70a7805b2"
      },
      "execution_count": null,
      "outputs": [
        {
          "output_type": "stream",
          "name": "stdout",
          "text": [
            "기울기 w:  2.3\n",
            "y 절편 b:  79.0\n",
            "가장 훌륭한 예측선: 2.30 X + 79 이다\n"
          ]
        }
      ]
    },
    {
      "cell_type": "code",
      "source": [
        "# 평균제곱오차\n",
        "\n",
        "# 임의의 가상의 기울기 값 w, y절편 b 입력\n",
        "\n",
        "w = 3\n",
        "b = 76\n",
        "\n",
        "x = np.array([2,4,6,8])\n",
        "y = np.array([81,93,91,97])"
      ],
      "metadata": {
        "id": "JfKIH5R1Lbse"
      },
      "execution_count": null,
      "outputs": []
    },
    {
      "cell_type": "code",
      "source": [
        "# 예측 함수 생성(pred = wx + b)\n",
        "\n",
        "def predict(x):\n",
        "    return w*x + b\n",
        "\n",
        "# 예측값이 들어갈 빈 리스트 생성\n",
        "\n",
        "result = []\n",
        "\n",
        "for i in range(len(x)):\n",
        "    result.append(predict(x[i]))\n",
        "    print('공부한 시간: %.2f, 실제 점수: %.2f, 예측점수: %.2f'%(x[i], y[i], predict(x[i])))"
      ],
      "metadata": {
        "colab": {
          "base_uri": "https://localhost:8080/"
        },
        "id": "Bd9WRYyELehu",
        "outputId": "d75df51c-c0aa-4227-97a1-7e8bc90396e3"
      },
      "execution_count": null,
      "outputs": [
        {
          "output_type": "stream",
          "name": "stdout",
          "text": [
            "공부한 시간: 2.00, 실제 점수: 81.00, 예측점수: 82.00\n",
            "공부한 시간: 4.00, 실제 점수: 93.00, 예측점수: 88.00\n",
            "공부한 시간: 6.00, 실제 점수: 91.00, 예측점수: 94.00\n",
            "공부한 시간: 8.00, 실제 점수: 97.00, 예측점수: 100.00\n"
          ]
        }
      ]
    },
    {
      "cell_type": "code",
      "source": [
        "# 평균 제곱 오차(mse) 함수 이용, 각 y 값 대입 >> 최종값 구하기\n",
        "\n",
        "n = len(x)\n",
        "\n",
        "def mse(y, y_pred):\n",
        "    return (1/n)*sum((y - y_pred)**2)\n",
        "\n",
        "# 평균제곱오차 출력\n",
        "print('평균제곱오차(mse):' + str(mse(y, result)))"
      ],
      "metadata": {
        "colab": {
          "base_uri": "https://localhost:8080/"
        },
        "id": "RBkHisxRLemK",
        "outputId": "97ae52dc-657b-4649-e885-7d3c922a656f"
      },
      "execution_count": null,
      "outputs": [
        {
          "output_type": "stream",
          "name": "stdout",
          "text": [
            "평균제곱오차(mse):11.0\n"
          ]
        }
      ]
    },
    {
      "cell_type": "code",
      "source": [],
      "metadata": {
        "id": "o8ViLpESLetA"
      },
      "execution_count": null,
      "outputs": []
    }
  ]
}
